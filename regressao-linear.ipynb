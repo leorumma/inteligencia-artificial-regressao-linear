{
 "cells": [
  {
   "cell_type": "markdown",
   "id": "ab187a48",
   "metadata": {
    "colab_type": "text",
    "id": "view-in-github"
   },
   "source": [
    "<a href=\"https://colab.research.google.com/github/leorumma/inteligencia-artificial-regressao-linear/blob/main/regressao-linear.ipynb\" target=\"_parent\"><img src=\"https://colab.research.google.com/assets/colab-badge.svg\" alt=\"Open In Colab\"/></a>"
   ]
  },
  {
   "cell_type": "code",
   "execution_count": 62,
   "id": "DbxSEMQaJJ0J",
   "metadata": {
    "id": "DbxSEMQaJJ0J"
   },
   "outputs": [],
   "source": [
    "import pandas as pd\n",
    "from pandas.plotting import register_matplotlib_converters\n",
    "import numpy as np\n",
    "from sklearn.tree import DecisionTreeClassifier\n",
    "from sklearn import metrics\n",
    "from sklearn.model_selection import train_test_split\n",
    "from sklearn.model_selection import KFold\n",
    "from sklearn import preprocessing\n",
    "from sklearn.linear_model import LinearRegression\n",
    "import matplotlib.pyplot as plt\n",
    "import seaborn as sns\n",
    "import datetime\n",
    "\n",
    "plt.rc(\"font\", size=14)\n",
    "sns.set(style=\"white\")\n",
    "sns.set(style=\"whitegrid\", color_codes=True)\n",
    "\n",
    "%matplotlib inline"
   ]
  },
  {
   "cell_type": "markdown",
   "id": "d09d3630",
   "metadata": {},
   "source": [
    "Importando o dataset e criando os vetores bidimensionais"
   ]
  },
  {
   "cell_type": "code",
   "execution_count": 63,
   "id": "b1fccc9c",
   "metadata": {},
   "outputs": [
    {
     "name": "stdout",
     "output_type": "stream",
     "text": [
      "           X           Y\n",
      "0  28.816847   60.854133\n",
      "1  35.757619   67.590670\n",
      "2  53.821076  110.762773\n",
      "3  58.215693  115.785785\n",
      "4  66.809748  125.311129\n",
      "5  78.252814  149.003866\n",
      "6  80.648697  159.619414\n",
      "7  81.296082  157.985286\n",
      "8  95.724162  197.179636\n",
      "9  99.958481  196.907397\n",
      "\n",
      "Valores do vetor X\n",
      " [[28.81684742]\n",
      " [35.75761893]\n",
      " [53.82107634]\n",
      " [58.21569264]\n",
      " [66.80974831]\n",
      " [78.25281369]\n",
      " [80.64869706]\n",
      " [81.29608217]\n",
      " [95.72416241]\n",
      " [99.95848131]] \n",
      "\n",
      "Valores do vetor Y\n",
      " [[ 60.85413282]\n",
      " [ 67.59066954]\n",
      " [110.76277271]\n",
      " [115.78578459]\n",
      " [125.31112852]\n",
      " [149.00386554]\n",
      " [159.61941373]\n",
      " [157.98528569]\n",
      " [197.17963609]\n",
      " [196.90739698]] \n",
      "\n"
     ]
    }
   ],
   "source": [
    "data = pd.read_csv('exemplo.csv',header=0)\n",
    "vetorX = np.array([data.X]).transpose()\n",
    "vetorY = np.array([data.Y]).transpose()\n",
    "print(str(data) + \"\\n\")\n",
    "print(\"Valores do vetor X\" + \"\\n {} \\n\".format(vetorX))\n",
    "print(\"Valores do vetor Y\" + \"\\n {} \\n\".format(vetorY))"
   ]
  },
  {
   "cell_type": "markdown",
   "id": "9e156140",
   "metadata": {},
   "source": [
    "Nesse momento, estamos fazendo um treinamento sem especificar para a biblioteca LinearRegression() a porcentagem\n",
    "de divisão entre treinamento e teste.\n",
    "\n",
    "Nosso objetivo é que dado um elemento do vetorX eu consiga predizer um possivel candidato do vetorYPred. \n",
    "\n",
    "Inicialmente chamamos a função modelo.fit que realizara o treinamento e após isso modelo.predict() que retornara um vetorYPred.\n",
    "\n",
    "com os atributos modelo.intercept_ e modelo.coef_ consigo obter os thetas que estão moldando minha função linear. \n"
   ]
  },
  {
   "cell_type": "code",
   "execution_count": 64,
   "id": "ea79694b",
   "metadata": {},
   "outputs": [
    {
     "name": "stdout",
     "output_type": "stream",
     "text": [
      "Valores do vetorYPred \n",
      "[[ 56.83577888]\n",
      " [ 70.54655532]\n",
      " [106.22904771]\n",
      " [114.91015782]\n",
      " [131.88682619]\n",
      " [154.49141866]\n",
      " [159.22423852]\n",
      " [160.50308087]\n",
      " [189.00426154]\n",
      " [197.36872071]]\n",
      "\n",
      "Valores do: \n",
      " theta1 \n",
      " [-0.0889236] \n",
      " \n",
      " theta2 \n",
      " [[1.9753966]]\n"
     ]
    }
   ],
   "source": [
    "modelo = LinearRegression()\n",
    "modelo.fit(vetorX, vetorY)\n",
    "vetorYPred = modelo.predict(vetorX)\n",
    "print(\"Valores do vetorYPred \\n{}\\n\".format(vetorYPred))\n",
    "print(\"Valores do: \\n theta1 \\n {} \\n \\n theta2 \\n {}\".format(modelo.intercept_, modelo.coef_))"
   ]
  },
  {
   "cell_type": "markdown",
   "id": "81eb5471",
   "metadata": {},
   "source": [
    "explicar grafico"
   ]
  },
  {
   "cell_type": "code",
   "execution_count": 67,
   "id": "1f49ec2e",
   "metadata": {},
   "outputs": [
    {
     "data": {
      "image/png": "[encoded data removed]",
      "text/plain": [
       "<Figure size 432x288 with 1 Axes>"
      ]
     },
     "metadata": {
      "needs_background": "light"
     },
     "output_type": "display_data"
    },
    {
     "data": {
      "image/png": "[encoded data removed]",
      "text/plain": [
       "<Figure size 432x288 with 1 Axes>"
      ]
     },
     "metadata": {
      "needs_background": "light"
     },
     "output_type": "display_data"
    }
   ],
   "source": [
    "plt.scatter(vetorX, vetorY,marker='o',color='blue')\n",
    "plt.scatter(vetorX, vetorYPred,marker='+',color='red')\n",
    "plt.savefig('pontos_originais_previstos.png')\n",
    "plt.xlabel(\"Eixo X\")\n",
    "plt.ylabel(\"Eixo Y\")\n",
    "plt.show()\n",
    "\n",
    "plt.scatter(vetorX, vetorY,marker='o',color='blue') \n",
    "plt.scatter(vetorX, vetorYPred,marker='+',color='red')\n",
    "plt.plot(vetorX, vetorYPred, color='green')\n",
    "plt.savefig('reta_prevista.png')\n",
    "plt.xlabel(\"Eixo X\")\n",
    "plt.ylabel(\"Eixo Y\")\n",
    "plt.show()"
   ]
  },
  {
   "cell_type": "code",
   "execution_count": null,
   "id": "99fbd57b",
   "metadata": {},
   "outputs": [],
   "source": []
  }
 ],
 "metadata": {
  "colab": {
   "include_colab_link": true,
   "name": "regressao-linear.ipynb",
   "provenance": []
  },
  "kernelspec": {
   "display_name": "Python 3 (ipykernel)",
   "language": "python",
   "name": "python3"
  },
  "language_info": {
   "codemirror_mode": {
    "name": "ipython",
    "version": 3
   },
   "file_extension": ".py",
   "mimetype": "text/x-python",
   "name": "python",
   "nbconvert_exporter": "python",
   "pygments_lexer": "ipython3",
   "version": "3.10.5"
  }
 },
 "nbformat": 4,
 "nbformat_minor": 5
}
