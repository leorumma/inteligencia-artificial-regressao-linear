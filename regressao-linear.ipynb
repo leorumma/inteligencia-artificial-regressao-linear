{
 "cells": [
  {
   "cell_type": "markdown",
   "id": "ab187a48",
   "metadata": {
    "colab_type": "text",
    "id": "view-in-github"
   },
   "source": [
    "<a href=\"https://colab.research.google.com/github/leorumma/inteligencia-artificial-regressao-linear/blob/main/regressao-linear.ipynb\" target=\"_parent\"><img src=\"https://colab.research.google.com/assets/colab-badge.svg\" alt=\"Open In Colab\"/></a>"
   ]
  },
  {
   "cell_type": "code",
   "execution_count": 300,
   "id": "DbxSEMQaJJ0J",
   "metadata": {
    "id": "DbxSEMQaJJ0J"
   },
   "outputs": [],
   "source": [
    "import pandas as pd\n",
    "from pandas.plotting import register_matplotlib_converters\n",
    "import numpy as np\n",
    "from sklearn.tree import DecisionTreeClassifier\n",
    "from sklearn import metrics\n",
    "from sklearn.model_selection import train_test_split\n",
    "from sklearn.model_selection import KFold\n",
    "from sklearn.metrics import mean_squared_error\n",
    "from sklearn import preprocessing\n",
    "from sklearn.linear_model import LinearRegression\n",
    "import matplotlib.pyplot as plt\n",
    "import seaborn as sns\n",
    "import datetime\n",
    "\n",
    "plt.rc(\"font\", size=14)\n",
    "sns.set(style=\"white\")\n",
    "sns.set(style=\"whitegrid\", color_codes=True)\n",
    "\n",
    "%matplotlib inline"
   ]
  },
  {
   "cell_type": "markdown",
   "id": "ebd21bbd",
   "metadata": {},
   "source": [
    "Importando o dataset e criando os vetores bidimensionais"
   ]
  },
  {
   "cell_type": "code",
   "execution_count": 301,
   "id": "3131eb3f",
   "metadata": {},
   "outputs": [
    {
     "name": "stdout",
     "output_type": "stream",
     "text": [
      "           X           Y\n",
      "0  28.816847   60.854133\n",
      "1  35.757619   67.590670\n",
      "2  53.821076  110.762773\n",
      "3  58.215693  115.785785\n",
      "4  66.809748  125.311129\n",
      "5  78.252814  149.003866\n",
      "6  80.648697  159.619414\n",
      "7  81.296082  157.985286\n",
      "8  95.724162  197.179636\n",
      "9  99.958481  196.907397\n",
      "\n",
      "Valores do vetor X\n",
      " [[28.81684742]\n",
      " [35.75761893]\n",
      " [53.82107634]\n",
      " [58.21569264]\n",
      " [66.80974831]\n",
      " [78.25281369]\n",
      " [80.64869706]\n",
      " [81.29608217]\n",
      " [95.72416241]\n",
      " [99.95848131]] \n",
      "\n",
      "Valores do vetor Y\n",
      " [[ 60.85413282]\n",
      " [ 67.59066954]\n",
      " [110.76277271]\n",
      " [115.78578459]\n",
      " [125.31112852]\n",
      " [149.00386554]\n",
      " [159.61941373]\n",
      " [157.98528569]\n",
      " [197.17963609]\n",
      " [196.90739698]] \n",
      "\n"
     ]
    }
   ],
   "source": [
    "data = pd.read_csv('exemplo.csv',header=0)\n",
    "vetorX = np.array([data.X]).transpose()\n",
    "vetorY = np.array([data.Y]).transpose()\n",
    "print(str(data) + \"\\n\")\n",
    "print(\"Valores do vetor X\" + \"\\n {} \\n\".format(vetorX))\n",
    "print(\"Valores do vetor Y\" + \"\\n {} \\n\".format(vetorY))"
   ]
  },
  {
   "cell_type": "markdown",
   "id": "059dae8c",
   "metadata": {},
   "source": [
    "Nesse momento, estamos fazendo um treinamento sem especificar para a biblioteca LinearRegression() a porcentagem\n",
    "de divisão entre treinamento e teste.\n",
    "\n",
    "Nosso objetivo é que dado um elemento do vetorX eu consiga predizer um possivel candidato do vetorYPred. \n",
    "\n",
    "Inicialmente chamamos a função modelo.fit que realizara o treinamento e após isso modelo.predict() que retornara um vetorYPred.\n",
    "\n",
    "com os atributos modelo.intercept_ e modelo.coef_ consigo obter os thetas que estão moldando minha função linear. \n"
   ]
  },
  {
   "cell_type": "code",
   "execution_count": 302,
   "id": "97e3121e",
   "metadata": {},
   "outputs": [
    {
     "name": "stdout",
     "output_type": "stream",
     "text": [
      "Valores do vetorYPred \n",
      "[[ 56.83577888]\n",
      " [ 70.54655532]\n",
      " [106.22904771]\n",
      " [114.91015782]\n",
      " [131.88682619]\n",
      " [154.49141866]\n",
      " [159.22423852]\n",
      " [160.50308087]\n",
      " [189.00426154]\n",
      " [197.36872071]]\n",
      "\n",
      "Valores do: \n",
      " theta1 \n",
      " [-0.0889236] \n",
      " \n",
      " theta2 \n",
      " [[1.9753966]]\n"
     ]
    }
   ],
   "source": [
    "modeloSemTrainTestSplit = LinearRegression()\n",
    "modeloSemTrainTestSplit.fit(vetorX, vetorY)\n",
    "vetorYPred = modeloSemTrainTestSplit.predict(vetorX)\n",
    "print(\"Valores do vetorYPred \\n{}\\n\".format(vetorYPred))\n",
    "print(\"Valores do: \\n theta1 \\n {} \\n \\n theta2 \\n {}\".format(modeloSemTrainTestSplit.intercept_, modeloSemTrainTestSplit.coef_))"
   ]
  },
  {
   "cell_type": "markdown",
   "id": "6a754472",
   "metadata": {},
   "source": [
    "explicar grafico"
   ]
  },
  {
   "cell_type": "code",
   "execution_count": 303,
   "id": "af8f5ebd",
   "metadata": {},
   "outputs": [
    {
     "data": {
      "image/png": "[encoded data removed]",
      "text/plain": [
       "<Figure size 432x288 with 1 Axes>"
      ]
     },
     "metadata": {
      "needs_background": "light"
     },
     "output_type": "display_data"
    },
    {
     "data": {
      "image/png": "[encoded data removed]",
      "text/plain": [
       "<Figure size 432x288 with 1 Axes>"
      ]
     },
     "metadata": {
      "needs_background": "light"
     },
     "output_type": "display_data"
    }
   ],
   "source": [
    "plt.scatter(vetorX, vetorY,marker='o',color='blue')\n",
    "plt.scatter(vetorX, vetorYPred,marker='+',color='red')\n",
    "plt.savefig('pontos_originais_previstos.png')\n",
    "plt.xlabel(\"Eixo X\")\n",
    "plt.ylabel(\"Eixo Y\")\n",
    "plt.show()\n",
    "\n",
    "plt.scatter(vetorX, vetorY,marker='o',color='blue') \n",
    "plt.scatter(vetorX, vetorYPred,marker='+',color='red')\n",
    "plt.plot(vetorX, vetorYPred, color='green')\n",
    "plt.savefig('reta_prevista.png')\n",
    "plt.xlabel(\"Eixo X\")\n",
    "plt.ylabel(\"Eixo Y\")\n",
    "plt.show()"
   ]
  },
  {
   "cell_type": "markdown",
   "id": "6afcf00a",
   "metadata": {},
   "source": [
    "Calculando erro"
   ]
  },
  {
   "cell_type": "code",
   "execution_count": 304,
   "id": "f83776cb",
   "metadata": {},
   "outputs": [
    {
     "name": "stdout",
     "output_type": "stream",
     "text": [
      "4.394358626600398\n"
     ]
    }
   ],
   "source": [
    "RMSE = mean_squared_error(vetorY, vetorYPred, squared=False)\n",
    "print(RMSE)"
   ]
  },
  {
   "cell_type": "code",
   "execution_count": 305,
   "id": "9214197e",
   "metadata": {
    "scrolled": true
   },
   "outputs": [
    {
     "name": "stdout",
     "output_type": "stream",
     "text": [
      "[[95.72416241]\n",
      " [35.75761893]\n",
      " [78.25281369]]\n",
      "Valores do vetorYPred \n",
      "[[186.65585117]\n",
      " [ 73.19487668]\n",
      " [153.5988141 ]]\n",
      "\n",
      "Valores do: \n",
      " theta1 \n",
      " [5.53891297] \n",
      " \n",
      " theta2 \n",
      " [[1.89207128]]\n"
     ]
    }
   ],
   "source": [
    "modeloComTrainTestSplit = LinearRegression()\n",
    "\n",
    "X_treino, X_teste, vetorY_treino, vetorY_teste = train_test_split(vetorX, vetorY, test_size=0.3, train_size=0.7, random_state=42)\n",
    "\n",
    "modeloComTrainTestSplit.fit(X_treino, vetorY_treino)\n",
    "vetorYPred_teste = modeloComTrainTestSplit.predict(X_teste)\n",
    "print(X_teste)\n",
    "print(\"Valores do vetorYPred \\n{}\\n\".format(vetorYPred_teste))\n",
    "print(\"Valores do: \\n theta1 \\n {} \\n \\n theta2 \\n {}\".format(modeloComTrainTestSplit.intercept_, modeloComTrainTestSplit.coef_))"
   ]
  },
  {
   "cell_type": "code",
   "execution_count": 306,
   "id": "d2f89b30",
   "metadata": {},
   "outputs": [
    {
     "data": {
      "image/png": "[encoded data removed]",
      "text/plain": [
       "<Figure size 432x288 with 1 Axes>"
      ]
     },
     "metadata": {
      "needs_background": "light"
     },
     "output_type": "display_data"
    }
   ],
   "source": [
    "plt.scatter(X_teste, vetorY_teste, marker='o', color='blue') \n",
    "plt.scatter(X_teste, vetorYPred_teste, marker='+', color='red')\n",
    "plt.plot(X_teste, vetorYPred_teste, color='green')\n",
    "plt.savefig('reta_prevista.png')\n",
    "plt.xlabel(\"Eixo X\")\n",
    "plt.ylabel(\"Eixo Y\")\n",
    "plt.show()"
   ]
  },
  {
   "cell_type": "code",
   "execution_count": 307,
   "id": "0da834dd",
   "metadata": {},
   "outputs": [
    {
     "name": "stdout",
     "output_type": "stream",
     "text": [
      "[[ 60.06244227]\n",
      " [ 73.19487668]\n",
      " [107.3722256 ]\n",
      " [115.68715288]\n",
      " [131.94771877]\n",
      " [153.5988141 ]\n",
      " [158.1319962 ]\n",
      " [159.35689497]\n",
      " [186.65585117]\n",
      " [194.66748434]]\n"
     ]
    }
   ],
   "source": [
    " generalizar = modeloComTrainTestSplit.predict(vetorX)\n",
    "print(generalizar)"
   ]
  },
  {
   "cell_type": "code",
   "execution_count": 308,
   "id": "0856ee69",
   "metadata": {},
   "outputs": [
    {
     "data": {
      "image/png": "[encoded data removed]",
      "text/plain": [
       "<Figure size 432x288 with 1 Axes>"
      ]
     },
     "metadata": {
      "needs_background": "light"
     },
     "output_type": "display_data"
    }
   ],
   "source": [
    "plt.scatter(vetorX, vetorY, marker='o', color='blue') \n",
    "plt.scatter(vetorX, generalizar, marker='+', color='red')\n",
    "plt.plot(vetorX, generalizar, color='green')\n",
    "plt.savefig('reta_prevista.png')\n",
    "plt.xlabel(\"Eixo X\")\n",
    "plt.ylabel(\"Eixo Y\")\n",
    "plt.show()"
   ]
  },
  {
   "cell_type": "code",
   "execution_count": 309,
   "id": "fa126426",
   "metadata": {},
   "outputs": [
    {
     "name": "stdout",
     "output_type": "stream",
     "text": [
      "4.780777262876109\n"
     ]
    }
   ],
   "source": [
    "RMSE = mean_squared_error(vetorY, generalizar, squared=False)\n",
    "print(RMSE)"
   ]
  },
  {
   "cell_type": "code",
   "execution_count": 310,
   "id": "9534267e",
   "metadata": {},
   "outputs": [
    {
     "name": "stdout",
     "output_type": "stream",
     "text": [
      "[[ 60.06244227]\n",
      " [ 73.19487668]\n",
      " [107.3722256 ]\n",
      " [115.68715288]\n",
      " [131.94771877]\n",
      " [153.5988141 ]\n",
      " [158.1319962 ]\n",
      " [159.35689497]\n",
      " [186.65585117]\n",
      " [194.66748434]]\n"
     ]
    }
   ],
   "source": [
    "print(generalizar)"
   ]
  },
  {
   "cell_type": "code",
   "execution_count": 311,
   "id": "5a3795bd",
   "metadata": {},
   "outputs": [
    {
     "name": "stdout",
     "output_type": "stream",
     "text": [
      "[[ 56.83577888]\n",
      " [ 70.54655532]\n",
      " [106.22904771]\n",
      " [114.91015782]\n",
      " [131.88682619]\n",
      " [154.49141866]\n",
      " [159.22423852]\n",
      " [160.50308087]\n",
      " [189.00426154]\n",
      " [197.36872071]]\n"
     ]
    }
   ],
   "source": [
    "print(vetorYPred)"
   ]
  },
  {
   "cell_type": "code",
   "execution_count": 312,
   "id": "19dca26a",
   "metadata": {
    "scrolled": true
   },
   "outputs": [
    {
     "name": "stdout",
     "output_type": "stream",
     "text": [
      "[[ 60.85413282]\n",
      " [ 67.59066954]\n",
      " [110.76277271]\n",
      " [115.78578459]\n",
      " [125.31112852]\n",
      " [149.00386554]\n",
      " [159.61941373]\n",
      " [157.98528569]\n",
      " [197.17963609]\n",
      " [196.90739698]]\n"
     ]
    }
   ],
   "source": [
    "print (vetorY)"
   ]
  },
  {
   "cell_type": "markdown",
   "id": "1762f203",
   "metadata": {},
   "source": [
    "# Regressão linear - Varias Variaveis"
   ]
  },
  {
   "cell_type": "code",
   "execution_count": 313,
   "id": "3ca241a7",
   "metadata": {},
   "outputs": [
    {
     "data": {
      "text/html": [
       "<div>\n",
       "<style scoped>\n",
       "    .dataframe tbody tr th:only-of-type {\n",
       "        vertical-align: middle;\n",
       "    }\n",
       "\n",
       "    .dataframe tbody tr th {\n",
       "        vertical-align: top;\n",
       "    }\n",
       "\n",
       "    .dataframe thead th {\n",
       "        text-align: right;\n",
       "    }\n",
       "</style>\n",
       "<table border=\"1\" class=\"dataframe\">\n",
       "  <thead>\n",
       "    <tr style=\"text-align: right;\">\n",
       "      <th></th>\n",
       "      <th>X1</th>\n",
       "      <th>X2</th>\n",
       "      <th>X3</th>\n",
       "      <th>X4</th>\n",
       "      <th>X5</th>\n",
       "    </tr>\n",
       "  </thead>\n",
       "  <tbody>\n",
       "    <tr>\n",
       "      <th>count</th>\n",
       "      <td>24.000000</td>\n",
       "      <td>24.000000</td>\n",
       "      <td>24.000000</td>\n",
       "      <td>24.00000</td>\n",
       "      <td>24.000000</td>\n",
       "    </tr>\n",
       "    <tr>\n",
       "      <th>mean</th>\n",
       "      <td>2016.500000</td>\n",
       "      <td>6.500000</td>\n",
       "      <td>2.072917</td>\n",
       "      <td>5.77500</td>\n",
       "      <td>1070.083333</td>\n",
       "    </tr>\n",
       "    <tr>\n",
       "      <th>std</th>\n",
       "      <td>0.510754</td>\n",
       "      <td>3.526299</td>\n",
       "      <td>0.349527</td>\n",
       "      <td>0.33002</td>\n",
       "      <td>210.735341</td>\n",
       "    </tr>\n",
       "    <tr>\n",
       "      <th>min</th>\n",
       "      <td>2016.000000</td>\n",
       "      <td>1.000000</td>\n",
       "      <td>1.750000</td>\n",
       "      <td>5.30000</td>\n",
       "      <td>704.000000</td>\n",
       "    </tr>\n",
       "    <tr>\n",
       "      <th>25%</th>\n",
       "      <td>2016.000000</td>\n",
       "      <td>3.750000</td>\n",
       "      <td>1.750000</td>\n",
       "      <td>5.50000</td>\n",
       "      <td>928.250000</td>\n",
       "    </tr>\n",
       "    <tr>\n",
       "      <th>50%</th>\n",
       "      <td>2016.500000</td>\n",
       "      <td>6.500000</td>\n",
       "      <td>2.000000</td>\n",
       "      <td>5.85000</td>\n",
       "      <td>1061.000000</td>\n",
       "    </tr>\n",
       "    <tr>\n",
       "      <th>75%</th>\n",
       "      <td>2017.000000</td>\n",
       "      <td>9.250000</td>\n",
       "      <td>2.500000</td>\n",
       "      <td>6.10000</td>\n",
       "      <td>1239.000000</td>\n",
       "    </tr>\n",
       "    <tr>\n",
       "      <th>max</th>\n",
       "      <td>2017.000000</td>\n",
       "      <td>12.000000</td>\n",
       "      <td>2.750000</td>\n",
       "      <td>6.20000</td>\n",
       "      <td>1464.000000</td>\n",
       "    </tr>\n",
       "  </tbody>\n",
       "</table>\n",
       "</div>"
      ],
      "text/plain": [
       "                X1         X2         X3        X4           X5\n",
       "count    24.000000  24.000000  24.000000  24.00000    24.000000\n",
       "mean   2016.500000   6.500000   2.072917   5.77500  1070.083333\n",
       "std       0.510754   3.526299   0.349527   0.33002   210.735341\n",
       "min    2016.000000   1.000000   1.750000   5.30000   704.000000\n",
       "25%    2016.000000   3.750000   1.750000   5.50000   928.250000\n",
       "50%    2016.500000   6.500000   2.000000   5.85000  1061.000000\n",
       "75%    2017.000000   9.250000   2.500000   6.10000  1239.000000\n",
       "max    2017.000000  12.000000   2.750000   6.20000  1464.000000"
      ]
     },
     "execution_count": 313,
     "metadata": {},
     "output_type": "execute_result"
    }
   ],
   "source": [
    "dataset2 = pd.read_csv('multi.csv')\n",
    "dataset2_x1 = dataset2.X1\n",
    "dataset2_x2 = dataset2.X2\n",
    "dataset2_x3 = dataset2.X3\n",
    "dataset2_x4 = dataset2.X4\n",
    "dataset2_x5 = dataset2.X5\n",
    "dataset2.describe()"
   ]
  },
  {
   "cell_type": "code",
   "execution_count": 314,
   "id": "2e7bfb78",
   "metadata": {},
   "outputs": [
    {
     "data": {
      "image/png": "[encoded data removed]",
      "text/plain": [
       "<Figure size 432x288 with 1 Axes>"
      ]
     },
     "metadata": {
      "needs_background": "light"
     },
     "output_type": "display_data"
    }
   ],
   "source": [
    "plt.scatter(dataset2_x1,dataset2_x5,color='b')\n",
    "plt.xlabel('X1')\n",
    "plt.ylabel('X5')\n",
    "plt.axis([min(dataset2_x1),max(dataset2_x1),min(dataset2_x5),max(dataset2_x5)])\n",
    "plt.ticklabel_format(style='plain', axis='x')\n",
    "plt.autoscale('False')\n",
    "plt.xticks(rotation=45)\n",
    "plt.show()"
   ]
  },
  {
   "cell_type": "code",
   "execution_count": 315,
   "id": "84601265",
   "metadata": {},
   "outputs": [
    {
     "data": {
      "image/png": "[encoded data removed]",
      "text/plain": [
       "<Figure size 432x288 with 1 Axes>"
      ]
     },
     "metadata": {
      "needs_background": "light"
     },
     "output_type": "display_data"
    }
   ],
   "source": [
    "plt.scatter(dataset2_x2,dataset2_x5,color='b')\n",
    "plt.xlabel('X2')\n",
    "plt.ylabel('X5')\n",
    "plt.axis([min(dataset2_x2),max(dataset2_x2),min(dataset2_x5),max(dataset2_x5)])\n",
    "plt.ticklabel_format(style='plain', axis='x')\n",
    "plt.autoscale('False')\n",
    "plt.xticks(rotation=45)\n",
    "plt.show()"
   ]
  },
  {
   "cell_type": "code",
   "execution_count": 316,
   "id": "0f5fe441",
   "metadata": {},
   "outputs": [
    {
     "data": {
      "image/png": "[encoded data removed]",
      "text/plain": [
       "<Figure size 432x288 with 1 Axes>"
      ]
     },
     "metadata": {
      "needs_background": "light"
     },
     "output_type": "display_data"
    }
   ],
   "source": [
    "plt.scatter(dataset2_x3,dataset2_x5,color='b')\n",
    "plt.xlabel('X3')\n",
    "plt.ylabel('X5')\n",
    "plt.axis([min(dataset2_x2),max(dataset2_x3),min(dataset2_x5),max(dataset2_x5)])\n",
    "plt.ticklabel_format(style='plain', axis='x')\n",
    "plt.autoscale('False')\n",
    "plt.xticks(rotation=45)\n",
    "plt.show()"
   ]
  },
  {
   "cell_type": "code",
   "execution_count": 317,
   "id": "66e79bd2",
   "metadata": {},
   "outputs": [
    {
     "data": {
      "image/png": "[encoded data removed]",
      "text/plain": [
       "<Figure size 432x288 with 1 Axes>"
      ]
     },
     "metadata": {
      "needs_background": "light"
     },
     "output_type": "display_data"
    }
   ],
   "source": [
    "plt.scatter(dataset2_x4,dataset2_x5,color='b')\n",
    "plt.xlabel('X4')\n",
    "plt.ylabel('X5')\n",
    "plt.axis([min(dataset2_x2),max(dataset2_x4),min(dataset2_x5),max(dataset2_x5)])\n",
    "plt.ticklabel_format(style='plain', axis='x')\n",
    "plt.autoscale('False')\n",
    "plt.xticks(rotation=45)\n",
    "plt.show()"
   ]
  },
  {
   "cell_type": "markdown",
   "id": "890de877",
   "metadata": {},
   "source": [
    "As features que possuem relação linear com x5 são x2, x3 e x4"
   ]
  },
  {
   "cell_type": "code",
   "execution_count": 318,
   "id": "3079dba0",
   "metadata": {},
   "outputs": [],
   "source": [
    "features = ['X2','X3','X4']\n",
    "datasetMulti = dataset2[features]\n",
    "vetorYMulti = np.array([dataset2.X5]).transpose()"
   ]
  },
  {
   "cell_type": "code",
   "execution_count": 319,
   "id": "b130422f",
   "metadata": {},
   "outputs": [
    {
     "name": "stdout",
     "output_type": "stream",
     "text": [
      "Valores do: \n",
      " theta1 \n",
      " [1591.59633828] \n",
      " \n",
      " theta2 \n",
      " [[  10.18248697  335.19306016 -222.08250238]]\n"
     ]
    }
   ],
   "source": [
    "modeloMulti = LinearRegression()\n",
    "modeloMulti.fit(datasetMulti, vetorYMulti)\n",
    "print(\"Valores do: \\n theta1 \\n {} \\n \\n theta2 \\n {}\".format(modeloMulti.intercept_, modeloMulti.coef_))"
   ]
  },
  {
   "cell_type": "code",
   "execution_count": 320,
   "id": "24b96ad2",
   "metadata": {},
   "outputs": [
    {
     "name": "stdout",
     "output_type": "stream",
     "text": [
      "[[1464]\n",
      " [1394]\n",
      " [1357]\n",
      " [1293]\n",
      " [1256]\n",
      " [1254]\n",
      " [1234]\n",
      " [1195]\n",
      " [1159]\n",
      " [1167]\n",
      " [1130]\n",
      " [1075]\n",
      " [1047]\n",
      " [ 965]\n",
      " [ 943]\n",
      " [ 958]\n",
      " [ 971]\n",
      " [ 949]\n",
      " [ 884]\n",
      " [ 866]\n",
      " [ 876]\n",
      " [ 822]\n",
      " [ 704]\n",
      " [ 719]]\n",
      "\n",
      "\n",
      "[[1458.52983479]\n",
      " [1364.54908277]\n",
      " [1354.3665958 ]\n",
      " [1344.18410883]\n",
      " [1311.79337162]\n",
      " [1257.19438418]\n",
      " [1269.22014745]\n",
      " [1175.23939543]\n",
      " [1165.05690846]\n",
      " [1132.66617126]\n",
      " [1016.47716901]\n",
      " [ 961.87818156]\n",
      " [1051.677288  ]\n",
      " [ 979.90478623]\n",
      " [ 991.93054949]\n",
      " [ 915.12331181]\n",
      " [ 882.7325746 ]\n",
      " [ 894.75833787]\n",
      " [ 884.5758509 ]\n",
      " [ 874.39336393]\n",
      " [ 908.62737743]\n",
      " [ 831.82013975]\n",
      " [ 821.63765278]\n",
      " [ 833.66341605]]\n"
     ]
    }
   ],
   "source": [
    "print(vetorYMulti)\n",
    "print(\"\\n\")\n",
    "print(modeloMulti.predict(datasetMulti))"
   ]
  },
  {
   "cell_type": "code",
   "execution_count": 321,
   "id": "02dd6129",
   "metadata": {},
   "outputs": [
    {
     "name": "stdout",
     "output_type": "stream",
     "text": [
      "57.22964014460865\n"
     ]
    }
   ],
   "source": [
    "RMSE = mean_squared_error(vetorYMulti, modeloMulti.predict(datasetMulti), squared=False)\n",
    "print(RMSE)"
   ]
  },
  {
   "cell_type": "code",
   "execution_count": 322,
   "id": "1945c07a",
   "metadata": {},
   "outputs": [
    {
     "name": "stdout",
     "output_type": "stream",
     "text": [
      "[[1152.68181072]\n",
      " [ 861.92805041]\n",
      " [1452.5492944 ]\n",
      " [ 865.14981562]\n",
      " [ 930.02639963]\n",
      " [1111.62622134]]\n",
      "[[1159]\n",
      " [ 971]\n",
      " [1464]\n",
      " [ 884]\n",
      " [1075]\n",
      " [1167]]\n",
      "Valores do: \n",
      " theta1 \n",
      " [2027.27506347] \n",
      " \n",
      " theta2 \n",
      " [[  12.61127472  284.17731317 -284.44314659]]\n"
     ]
    }
   ],
   "source": [
    "modeloMultiComTrainTestSplit = LinearRegression()\n",
    "x_treino, x_teste, y_treino, y_teste = train_test_split(datasetMulti, vetorYMulti, test_size=0.25, train_size=0.75, random_state=42)\n",
    "modeloMultiComTrainTestSplit.fit(x_treino, y_treino)\n",
    "y_pred = modeloMultiComTrainTestSplit.predict(x_teste)\n",
    "print(y_pred)\n",
    "print(y_teste)\n",
    "print(\"Valores do: \\n theta1 \\n {} \\n \\n theta2 \\n {}\".format(modeloMultiComTrainTestSplit.intercept_, modeloMultiComTrainTestSplit.coef_))"
   ]
  },
  {
   "cell_type": "code",
   "execution_count": 326,
   "id": "30d9f342",
   "metadata": {},
   "outputs": [
    {
     "name": "stdout",
     "output_type": "stream",
     "text": [
      "78.00283967182416\n"
     ]
    }
   ],
   "source": [
    "RMSE = mean_squared_error(y_teste, y_pred, squared=False)\n",
    "print(RMSE)"
   ]
  },
  {
   "cell_type": "code",
   "execution_count": 323,
   "id": "f93587a5",
   "metadata": {},
   "outputs": [
    {
     "name": "stdout",
     "output_type": "stream",
     "text": [
      "57.22964014460865\n"
     ]
    }
   ],
   "source": [
    "RMSE = mean_squared_error(vetorYMulti, modeloMulti.predict(datasetMulti), squared=False)\n",
    "print(RMSE)"
   ]
  },
  {
   "cell_type": "code",
   "execution_count": null,
   "id": "42d14c9a",
   "metadata": {},
   "outputs": [],
   "source": []
  }
 ],
 "metadata": {
  "colab": {
   "include_colab_link": true,
   "name": "regressao-linear.ipynb",
   "provenance": []
  },
  "kernelspec": {
   "display_name": "Python 3 (ipykernel)",
   "language": "python",
   "name": "python3"
  },
  "language_info": {
   "codemirror_mode": {
    "name": "ipython",
    "version": 3
   },
   "file_extension": ".py",
   "mimetype": "text/x-python",
   "name": "python",
   "nbconvert_exporter": "python",
   "pygments_lexer": "ipython3",
   "version": "3.10.5"
  }
 },
 "nbformat": 4,
 "nbformat_minor": 5
}
